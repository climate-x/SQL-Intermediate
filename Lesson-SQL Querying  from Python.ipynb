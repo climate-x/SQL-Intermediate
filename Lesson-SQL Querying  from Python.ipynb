{
 "cells": [
  {
   "cell_type": "markdown",
   "metadata": {},
   "source": [
    "## Lesson - Querying SQL from Python\n",
    "(Python script is available in accompanying `.py` files)\n",
    "\n",
    "SQLite is a database that doesn't require a standalone server; it stores the entire database as a file on disk. This makes it ideal for working with larger datasets that can fit on disk but not in memory.\n",
    "\n",
    "Python loads the entire data set we're working with into memory (RAM), making SQLite a compelling alternative for working with data sets larger than 8 gigabytes (which is roughly the amount of memory modern computers contain). \n",
    "The fact that we can contain an entire database in a single file makes them easy to share; some data sets are available online as SQLite database files (using the extension .db).\n",
    "\n",
    "We can interact with a SQLite database in two main ways:\n",
    "\n",
    "- Through the sqlite3 Python module\n",
    "- Through the SQLite shell\n",
    "In this lesson, we'll learn how to use the sqlite3 module to interact with the database.\n",
    "\n",
    "**Database**\n",
    "We'll work with the subset of  American Community Survey data on college majors and job outcomes.\n",
    "Full dataset is available at [FiveThirtyEight's GitHub repository](https://github.com/fivethirtyeight/data/tree/master/college-majors).\n",
    "\n",
    "Here are the descriptions for the columns in the preview:\n",
    "\n",
    "`Rank`: The major's rank by median earnings\n",
    "`Major_code`: The major's code or ID\n",
    "`Major`: The name of the major\n",
    "`Major_category`: The broader category the major belongs to\n",
    "`Total`: The total number of people who studied the major\n",
    "`Sample_size`: The sample size (unweighted) of graduates with full time jobs\n",
    "`Men`: The number of male graduates\n",
    "`Women`: The number of female graduates\n",
    "`ShareWomen`: Women as a proportion of the total number of graduates (a number ranging from 0 to 1)\n",
    "`Employed`: The number of employed graduates\n",
    "\n",
    "We've loaded a subset of the data into a table named `recent_grad`s in a database. The subset contains the 2010-2012 data for recent college grads only. The database file we'll be working with is called `jobs.db`."
   ]
  },
  {
   "cell_type": "code",
   "execution_count": 1,
   "metadata": {},
   "outputs": [],
   "source": [
    "import sqlite3\n",
    "conn = sqlite3.connect(\"jobs.db\")"
   ]
  },
  {
   "cell_type": "markdown",
   "metadata": {},
   "source": [
    "### Cursor objects and Tuples\n",
    "Before we can execute a query, we need to express our SQL query as a `string`. While we use the `Connection` class to represent the database we're working with, we use the `Cursor` class to:\n",
    "\n",
    "- Run a query against the database\n",
    "- Parse the results from the database\n",
    "- Convert the results to native Python objects\n",
    "- Store the results within the Cursor instance as a local variable\n",
    "- After running a query and converting the results to a list of tuples, the Cursor instance stores the   list as a local variable. \n"
   ]
  },
  {
   "cell_type": "markdown",
   "metadata": {},
   "source": [
    "### Working with Sequence of Values as Tuples\n",
    "A [tuple](https://docs.python.org/3/tutorial/datastructures.html#tuples-and-sequences) is a core data structure that Python uses to represent a sequence of values, similar to a list. Unlike lists, tuples are immutable, which means we can't modify existing ones. Python represents each row in the results set as a tuple.\n",
    "\n",
    "To create an empty tuple, assign a pair of empty parentheses to a variable: `t=()`\n",
    "\n",
    "Python indexes Tuples from 0 to n-1, just like it does with lists. We access the values in a tuple using bracket notation.\n",
    "```\n",
    "t = ('Apple', 'Banana')\n",
    "apple = t[0] \n",
    "banana = t[1]\n",
    "```\n",
    "Tuples are faster than lists, so they're helpful with larger databases and larger results sets.\n",
    "\n",
    "----------------------------------------------\n",
    "```\n",
    ">>> t = 12345, 54321, 'hello!'\n",
    ">>> t[0]\n",
    "12345\n",
    ">>> t\n",
    "(12345, 54321, 'hello!')\n",
    ">>> # Tuples may be nested:\n",
    "... u = t, (1, 2, 3, 4, 5)\n",
    ">>> u\n",
    "((12345, 54321, 'hello!'), (1, 2, 3, 4, 5))\n",
    ">>> # Tuples are immutable:\n",
    "... t[0] = 88888\n",
    "Traceback (most recent call last):\n",
    "  File \"<stdin>\", line 1, in <module>\n",
    "TypeError: 'tuple' object does not support item assignment\n",
    ">>> # but they can contain mutable objects:\n",
    "... v = ([1, 2, 3], [3, 2, 1])\n",
    ">>> v\n",
    "([1, 2, 3], [3, 2, 1])\n",
    "```\n"
   ]
  },
  {
   "cell_type": "markdown",
   "metadata": {},
   "source": [
    "### Creating a Cursor and Running a Query\n",
    "We need to use the Connection instance method cursor() to return a Cursor instance corresponding to the database we want to query: `cursor = conn.cursor()`\n",
    "In the following code block, we:\n",
    "\n",
    "- Write a basic `select` query that will return all of the values from the `recent_grads` table, and **store this query as a string named query**.\n",
    "- use the `Cursor` method `execute()` to run the query against our database.\n",
    "- Return the full results set and store it as results.\n",
    "- Print the first three tuples in the list results."
   ]
  },
  {
   "cell_type": "code",
   "execution_count": 2,
   "metadata": {
    "scrolled": false
   },
   "outputs": [
    {
     "name": "stdout",
     "output_type": "stream",
     "text": [
      "[(0, 1, 2419, 'PETROLEUM ENGINEERING', 'Engineering', 2339, 36, 2057, 282, 0.120564344, 1976, 1849, 270, 1207, 37, 0.018380527, 110000, 95000, 125000, 1534, 364, 193), (1, 2, 2416, 'MINING AND MINERAL ENGINEERING', 'Engineering', 756, 7, 679, 77, 0.10185185199999999, 640, 556, 170, 388, 85, 0.117241379, 75000, 55000, 90000, 350, 257, 50), (2, 3, 2415, 'METALLURGICAL ENGINEERING', 'Engineering', 856, 3, 725, 131, 0.153037383, 648, 558, 133, 340, 16, 0.024096386, 73000, 50000, 105000, 456, 176, 0)]\n"
     ]
    }
   ],
   "source": [
    "import sqlite3\n",
    "conn = sqlite3.connect(\"jobs.db\")\n",
    "cursor = conn.cursor()\n",
    "\n",
    "# SQL Query as a string\n",
    "query = \"select * from recent_grads;\"\n",
    "# Execute the query, convert the results to tuples, and store as a local variable\n",
    "cursor.execute(query)\n",
    "# Fetch the full results set as a list of tuples\n",
    "results = cursor.fetchall()\n",
    "# Display the first three results\n",
    "print(results[0:3])"
   ]
  },
  {
   "cell_type": "markdown",
   "metadata": {},
   "source": [
    "Write a query that returns all of the values in the `Major` column from the `recent_grads table`.\n",
    "- Store the full results set (a list of tuples) in `majors`.\n",
    "- Then, `print` the first three tuples in majors"
   ]
  },
  {
   "cell_type": "code",
   "execution_count": 5,
   "metadata": {},
   "outputs": [
    {
     "name": "stdout",
     "output_type": "stream",
     "text": [
      "[('PETROLEUM ENGINEERING',), ('MINING AND MINERAL ENGINEERING',), ('METALLURGICAL ENGINEERING',)]\n"
     ]
    }
   ],
   "source": [
    "import sqlite3\n",
    "conn = sqlite3.connect(\"jobs.db\")\n",
    "cursor = conn.cursor()\n",
    "\n",
    "# SQL Query as a string\n",
    "query = \"select Major from recent_grads;\"\n",
    "# Execute the query, convert the results to tuples, and store as a local variable\n",
    "cursor.execute(query)\n",
    "# Fetch the full results set as a list of tuples\n",
    "majors = cursor.fetchall()\n",
    "# Display the first three results\n",
    "print(majors[0:3])"
   ]
  },
  {
   "cell_type": "markdown",
   "metadata": {},
   "source": [
    "### Execute as a Shortcut for running Queries\n",
    "So far, we've run queries by creating a Cursor instance, and then calling the execute method on the instance. The SQLite library actually allows us to skip creating a Cursor altogether by using the execute method within the Connection object itself. SQLite will create a Cursor instance for us under the hood and run our query against the database, allowing us to skip a step. Here's what the code looks like:\n",
    "```\n",
    "conn = sqlite3.connect(\"jobs.db\")\n",
    "query = \"select * from recent_grads;\"\n",
    "conn.execute(query).fetchall()\n",
    "```\n",
    "We didn't explicitly create a separate Cursor instance ourselves in this code example"
   ]
  },
  {
   "cell_type": "markdown",
   "metadata": {},
   "source": [
    "### Fetching a Specific number of Results\n",
    "To make it easier to work with large results sets, the `Cursor` class allows us to control the number of results we want to retrieve at any given time. To return a single result (as a tuple), we use the Cursor method `fetchone()`. To return `n` results, we use the Cursor method `fetchmany()`.\n",
    "\n",
    "Each Cursor instance contains an internal counter that updates every time we retrieve results. When we call the `fetchone()` method, the Cursor instance will return a single result, and then increment its internal counter by 1. This means that if we call `fetchone()` again, the Cursor instance will actually return the second tuple in the results set (and increment by 1 again).\n",
    "\n",
    "The `fetchmany()` method takes in an integer `(n)` and returns the corresponding results, starting from the current position. It then increments the Cursor instance's counter by `n`.\n",
    "\n",
    "In the following code, we return the first two results using the `fetchone()` method, then the next five results using the `fetchmany()` method.\n",
    "```\n",
    "first_result = cursor.fetchone()\n",
    "second_result = cursor.fetchone()\n",
    "next_five_results = cursor.fetchmany(5)\n",
    "\n",
    "```\n",
    "Write and run a query that returns the `Major` and `Major_category` columns from recent_grads.\n",
    "Then, fetch the first five results and store them as `five_results`.\n"
   ]
  },
  {
   "cell_type": "code",
   "execution_count": 9,
   "metadata": {
    "scrolled": true
   },
   "outputs": [
    {
     "name": "stdout",
     "output_type": "stream",
     "text": [
      "[('PETROLEUM ENGINEERING', 'Engineering'), ('MINING AND MINERAL ENGINEERING', 'Engineering'), ('METALLURGICAL ENGINEERING', 'Engineering'), ('NAVAL ARCHITECTURE AND MARINE ENGINEERING', 'Engineering'), ('CHEMICAL ENGINEERING', 'Engineering')]\n"
     ]
    }
   ],
   "source": [
    "import sqlite3\n",
    "conn = sqlite3.connect(\"jobs.db\")\n",
    "cursor = conn.cursor()\n",
    "\n",
    "query=\"select Major, Major_category from recent_grads\"         \n",
    "five_results=conn.execute(query).fetchmany(5)\n",
    "print(five_results)\n"
   ]
  },
  {
   "cell_type": "markdown",
   "metadata": {},
   "source": [
    "### Closing  Database Connection\n",
    "Because SQLite restricts access to the database file when we're connected to a database, we need to close the connection when we're done working with it. Closing the connection allows other processes to access the database, which is important when you're in a production environment and working with other team members.\n",
    "\n",
    "To close a connection to a database, use the Connection instance method `close()`. When we're working with multiple databases and multiple Connection instances, we want to make sure we call the `close()` method on the correct instance.\n",
    "\n",
    "After closing the connection, attempting to query the database using any linked Cursor instances will return the following error:\n",
    "```\n",
    "ProgrammingError: Cannot operate on a closed database.\n",
    "\n",
    "```\n",
    "Close the connection to the database using the Connection instance method `close()`."
   ]
  },
  {
   "cell_type": "code",
   "execution_count": 10,
   "metadata": {},
   "outputs": [],
   "source": [
    "conn = sqlite3.connect(\"jobs.db\")\n",
    "conn.close()"
   ]
  },
  {
   "cell_type": "markdown",
   "metadata": {},
   "source": [
    "### Complete Workflow\n",
    "\n",
    "Connect to the database `jobs2.db`, which contains the same data as jobs.db.\n",
    "Write and execute a query that returns all of the `majors (Major)` in reverse alphabetical order (Z to A).\n",
    "Assign the full result set to `reverse_alphabetical`.\n",
    "Finally, close the connection to the database."
   ]
  },
  {
   "cell_type": "code",
   "execution_count": 15,
   "metadata": {},
   "outputs": [
    {
     "name": "stdout",
     "output_type": "stream",
     "text": [
      "[('ZOOLOGY',), ('VISUAL AND PERFORMING ARTS',), ('UNITED STATES HISTORY',)]\n"
     ]
    }
   ],
   "source": [
    "import sqlite3\n",
    "conn2=sqlite3.connect(\"jobs2.db\")\n",
    "cursor=conn2.cursor()\n",
    "\n",
    "query=\"select Major from recent_grads order by Major Desc;\"\n",
    "cursor.execute(query)\n",
    "reverse_alphabetical=cursor.fetchall()\n",
    "print(reverse_alphabetical[0:3])\n",
    "conn2.close()"
   ]
  }
 ],
 "metadata": {
  "kernelspec": {
   "display_name": "Python 3",
   "language": "python",
   "name": "python3"
  },
  "language_info": {
   "codemirror_mode": {
    "name": "ipython",
    "version": 3
   },
   "file_extension": ".py",
   "mimetype": "text/x-python",
   "name": "python",
   "nbconvert_exporter": "python",
   "pygments_lexer": "ipython3",
   "version": "3.7.6"
  }
 },
 "nbformat": 4,
 "nbformat_minor": 4
}
