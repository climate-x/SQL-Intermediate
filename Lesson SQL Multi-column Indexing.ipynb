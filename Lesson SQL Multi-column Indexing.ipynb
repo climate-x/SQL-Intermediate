{
 "cells": [
  {
   "cell_type": "markdown",
   "metadata": {},
   "source": [
    "# Lesson - SQL Multi-column Indexing\n",
    "\n",
    "In this lesson, we'll explore how to create indexes for speeding up queries that filter on multiple columns.\n",
    "\n",
    "We'll work with `factbook.db`, a SQLite database that contains information about each country in the world. This database contains just the `facts` table and each row represents a single country. This version of `factbook.db` contains pop_idx already created.\n",
    "\n",
    "Here are some of the columns:\n",
    "\n",
    "`name` -- the name of the country.\n",
    "`area` -- the total land and sea area of the country.\n",
    "`population` -- the population of the country.\n",
    "`birth_rate` -- the birth rate of the country.\n",
    "`created_at` -- the date the record was created.\n",
    "`updated_at` -- the date the record was updated.\n",
    "\n",
    "Previously we limited ourselves to working with queries that only filtered on one column like:\n",
    "`SELECT * FROM facts WHERE name = 'India';`\n",
    "\n",
    "In this lesson, we'll explore how to create indexes for speeding up queries that filter on multiple columns, like:\n",
    "`SELECT * FROM facts WHERE population > 1000000 AND population_growth < 2.0;`\n",
    "We'll also explore how to modify the queries we write to better take advantage of indexes. For example, if we create an index for the `name` column, we'll explore why the following query:\n",
    "\n",
    "`SELECT name from facts WHERE name = 'India';`\n",
    "will be faster than:\n",
    "`SELECT * from facts WHERE name = 'India'`;`\n"
   ]
  },
  {
   "cell_type": "markdown",
   "metadata": {},
   "source": [
    "### QUERY PLAN\n",
    "**Exercise**\n",
    "- Return the query plan for a query that returns all rows where population is greater than 1000000 and where population_growth is less than 0.05.\n",
    "- We're interested in all of the columns in the rows.\n",
    "- Assign the query plan to query_plan_one and use print function to display the query plan."
   ]
  },
  {
   "cell_type": "code",
   "execution_count": 3,
   "metadata": {},
   "outputs": [
    {
     "name": "stdout",
     "output_type": "stream",
     "text": [
      "[(3, 0, 0, 'SEARCH TABLE facts USING INDEX pop_idx (population>?)')]\n"
     ]
    }
   ],
   "source": [
    "import sqlite3\n",
    "conn = sqlite3.connect(\"factbook.db\")\n",
    "\n",
    "query_one=\"EXPLAIN QUERY PLAN SELECT * FROm facts WHERE (population>1000000 AND population_growth<0.05);\"\n",
    "query_plan_one=conn.execute(query_one).fetchall()\n",
    "\n",
    "print(query_plan_one)"
   ]
  },
  {
   "cell_type": "markdown",
   "metadata": {},
   "source": [
    "### Query Plan for Multi-column Queries\n",
    "\n",
    "We will now add index for population_growth column to see how SQLite uses these indexes for returning the same query. For exercise purposes we will also again try to add pop_idx which already exists conditioned bny `IF NOT ExISTS` statemet.\n",
    "\n",
    "**Exercise**\n",
    "\n",
    "- Create an index called `pop_idx` for the `population` column in the facts table.\n",
    "- Create an index called `pop_growth_idx` for the `population_growth` column in the `facts` table.\n",
    "- Return the query plan for a query that returns all rows where population is greater than 1000000 and where `population_growth` is less than 0.05. We're interested in all of the columns in the rows.\n",
    "- Assign the query plan to `query_plan_two` and display it using the `prin`t function."
   ]
  },
  {
   "cell_type": "code",
   "execution_count": 7,
   "metadata": {},
   "outputs": [
    {
     "name": "stdout",
     "output_type": "stream",
     "text": [
      "[(3, 0, 0, 'SEARCH TABLE facts USING INDEX pop_growth_idx (population_growth<?)')]\n"
     ]
    }
   ],
   "source": [
    "import sqlite3\n",
    "conn = sqlite3.connect(\"factbook.db\")\n",
    "\n",
    "conn.execute(\"CREATE INDEX IF NOT EXISTS pop_idx ON facts(population);\")\n",
    "\n",
    "conn.execute(\"CREATE INDEX IF NOT EXISTS pop_growth_idx ON facts(population_growth);\")\n",
    "            \n",
    "query_two=\"EXPLAIN QUERY PLAN SELECT * FROM facts WHERE (population>1000000 AND population_growth<0.05);\"\n",
    "query_plan_two=conn.execute(query_two).fetchall()\n",
    "\n",
    "print(query_plan_two)"
   ]
  },
  {
   "cell_type": "markdown",
   "metadata": {},
   "source": [
    "**Explanation of Results**\n",
    "\n",
    "`SQLite` returns only a high-level query plan when we use the `EXPLAIN QUERY PLAN` statement in front of a query. This means that we'll often have to augment the returned query plan with your own understanding of the available indexes. In this case, the facts table has 2 indexes:\n",
    "\n",
    "- one ordered by `population` called `pop_idx`,\n",
    "- one ordered by `population_growth`, called `pop_growth_idx`.\n",
    "\n",
    "SQLite struggles to take advantage of both indexes since each index is optimized for lookups on just that column. SQLite can use the indexes to quickly find the row `id` values where **either** population is greater than 1000000 or where population_growth is less than 0.05. If SQLite uses the index of population values to return all of the row `id` values where population is less than 1000000, it can't use those id values to search the `pop_growth_idx` index quickly to find the rows where `population_growth` is less than 0.05.\n",
    "\n",
    "If we look at the query plan, we can infer that `SQLite` first decided to use the `pop_growth_idx` index to return the `id` values for the rows where population_growth was less than 0.05. Then, SQLite used a `binary search` on the `facts` table to access the row at each `id` value, add that row to a temporary collection if the value for population was greater than 1000000, and return the collection of rows.\n",
    "\n",
    "The reason why `SQLite` chose the `pop_growth_idx` instead of the `pop_idx`is, because when there are 2 possible indexes available, `SQLite` tries to estimate which index will result in better performance. To keep SQLite lightweight, limited ability was added to estimate and plan accurately and `SQLite` often ends up picking an index at random."
   ]
  },
  {
   "cell_type": "markdown",
   "metadata": {},
   "source": [
    "### Multi-column Index\n",
    "\n",
    "In cases like above, we need to create a multi-column index that contains values from both of the columns we're filtering on. This way, both criteria in the `WHERE` statement can be evaluted in the index itself and the `facts` table will only be queried at the end when we have the specific row `id` values.\n",
    "\n",
    "While the single column indexes contain just the primary key column (`population`) and the row `id` (id) columns, the multi-column index contains the `population_growth` column as well. SQLite can:\n",
    "\n",
    "- use binary search to find the first row in this index where population is greater than 1000000,\n",
    "- add the row to a `temporary collection` if `population_growth` is less than 0.05,\n",
    "- advance to the next row (the index is ordered by population),\n",
    "- add the row to a temporary collection if population_growth is less than 0.05,\n",
    "- when the end of the index is reached, look up each row in `facts` using the `id` values from the `temporary collection`.\n",
    "\n",
    "This way the `facts` table is only accessed at the end and the index is used to process the `WHERE` criteria.\n",
    "When creating a multi-column index, we need to specify which of the columns we want as the `primary key`. In the example above, this means that `SQLit`e can use `binary search` to quickly jump to the first row that matches a specific population value but not before identifyingg it with the first row that matches a specific population_growth value."
   ]
  },
  {
   "cell_type": "markdown",
   "metadata": {},
   "source": [
    "### Creating a Multi-column Index\n",
    "\n",
    "To create a multi-column index, we use the same `CREATE INDEX` syntax as before but instead specify 2 columns in the `ON` statement:\n",
    "\n",
    "```\n",
    "CREATE INDEX index_name ON table_name(column_name_1, column_name_2);\n",
    "```\n",
    "**First column in the parentheses becomes the primary key for the index.**\n",
    "\n",
    "**Exercise**\n",
    "- Create a multi-column index for `population` and `population_growth` named `pop_pop_growth_idx` with `population` as the `primary key`.\n",
    "- Return the query plan for a query that returns all rows where `population` is greater than 1000000 and where `population_growth` is less than 0.05. We're interested in all of the columns in the rows.\n",
    "- Assign the returned query plan to `query_plan_three` and use the `print` function to display it."
   ]
  },
  {
   "cell_type": "code",
   "execution_count": 1,
   "metadata": {
    "scrolled": true
   },
   "outputs": [
    {
     "name": "stdout",
     "output_type": "stream",
     "text": [
      "[(3, 0, 0, 'SEARCH TABLE facts USING INDEX pop__pop_growth_idx (population>?)')]\n"
     ]
    }
   ],
   "source": [
    "import sqlite3\n",
    "conn = sqlite3.connect(\"factbook.db\")\n",
    "\n",
    "conn.execute(\"CREATE INDEX IF NOT EXISTS pop__pop_growth_idx ON facts(population,population_growth);\")\n",
    "\n",
    "         \n",
    "query_three=\"EXPLAIN QUERY PLAN SELECT * FROM facts WHERE (population>1000000 AND population_growth<0.05);\"\n",
    "query_plan_three=conn.execute(query_three).fetchall()\n",
    "\n",
    "print(query_plan_three)"
   ]
  },
  {
   "cell_type": "markdown",
   "metadata": {},
   "source": [
    "### Covering Index\n",
    "\n",
    "Above `SQLite` used the multi-column index `pop_pop_growth_idx` that we created instead of either `pop_growth_idx` or `pop_idx`. `SQLite` only needed to access the `facts` table to return the rest of the column values for the rows that met the `WHERE` criteria. This is only because the `pop_pop_growth_idx` doesn't contain the other values (besides population and population_growth).\n",
    "\n",
    "If we restricted the columns in the `SELECT` that we want returned to just `population` and `population_growth`, SQLite will not need to interact with the `facts` table since the `pop_pop_growth_idx` can service the query.\n",
    "\n",
    "When an index contains all of the information necessary to answer a query, it's called a **covering index**. Since the index covers for the actual table and can return the requested results to the query, `SQLite` doesn't need to query the actual table. For many queries, especially as our data gets larger, this can be much more efficient.\n",
    "\n",
    "**Exercise**\n",
    "\n",
    "- Return the query plan for a query that returns all rows where `population` is greater than 1000000 and where `population_growth` is less than 0.05. Select only the `population` and `population_growth columns`.\n",
    "- Assign the returned query plan to query_plan_four and use the print function to display it."
   ]
  },
  {
   "cell_type": "code",
   "execution_count": 2,
   "metadata": {},
   "outputs": [
    {
     "name": "stdout",
     "output_type": "stream",
     "text": [
      "[(2, 0, 0, 'SEARCH TABLE facts USING COVERING INDEX pop__pop_growth_idx (population>?)')]\n"
     ]
    }
   ],
   "source": [
    "conn = sqlite3.connect(\"factbook.db\")\n",
    "\n",
    "query_four=\"EXPLAIN QUERY PLAN SELECT population, population_growth FROM facts WHERE (population>1000000 AND population_growth<0.05);\"\n",
    "query_plan_four=conn.execute(query_four).fetchall()\n",
    "\n",
    "print(query_plan_four)"
   ]
  },
  {
   "cell_type": "markdown",
   "metadata": {},
   "source": [
    "### Covering Index for Single Column\n",
    "\n",
    "two things that stand out from the query plan from the previous screen:\n",
    "\n",
    "- instead of `USING INDEX` the query plan says `USING COVERING INDEX`,\n",
    "- the query plan still contains `SEARCH TABLE facts` as before.\n",
    "\n",
    "Even though the query plan indicates that a `binary search` on facts was performed, this is misleading and it was instead able to use the covering index. We can read more about that on the [documentation](https://www.sqlite.org/queryplanner.html#covidx).\n",
    "\n",
    "Covering indexes don't apply just to multi-column indexes. If a query we write only touches a column in the database that we have a single-column index for, `SQLite` will use only the index to service the query. Let's test this by writing a query that can take advantage of just the index, `pop_idx`, for the `population` column.\n",
    "\n",
    "**Exercise**\n",
    "\n",
    "- Return the query plan for a query that returns all rows where `population` is greater than 1000000. We're only interested in the `population` column.\n",
    "- Assign the returned query plan to query_plan_five and use the print function to display it."
   ]
  },
  {
   "cell_type": "code",
   "execution_count": 3,
   "metadata": {},
   "outputs": [
    {
     "name": "stdout",
     "output_type": "stream",
     "text": [
      "[(2, 0, 0, 'SEARCH TABLE facts USING COVERING INDEX pop_idx (population>?)')]\n"
     ]
    }
   ],
   "source": [
    "conn = sqlite3.connect(\"factbook.db\")\n",
    "\n",
    "query_five=\"EXPLAIN QUERY PLAN SELECT population FROM facts WHERE population>1000000;\"\n",
    "query_plan_five=conn.execute(query_five).fetchall()\n",
    "\n",
    "print(query_plan_five)"
   ]
  },
  {
   "cell_type": "markdown",
   "metadata": {},
   "source": [
    "Since only the `population` values were necessary to service the query, `SQLite` used the `pop_idx` index as a covering index and didn't have to access the `facts` table."
   ]
  }
 ],
 "metadata": {
  "kernelspec": {
   "display_name": "Python 3",
   "language": "python",
   "name": "python3"
  },
  "language_info": {
   "codemirror_mode": {
    "name": "ipython",
    "version": 3
   },
   "file_extension": ".py",
   "mimetype": "text/x-python",
   "name": "python",
   "nbconvert_exporter": "python",
   "pygments_lexer": "ipython3",
   "version": "3.7.6"
  }
 },
 "nbformat": 4,
 "nbformat_minor": 4
}
