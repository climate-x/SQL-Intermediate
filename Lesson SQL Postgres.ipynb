{
 "cells": [
  {
   "cell_type": "markdown",
   "metadata": {},
   "source": [
    "# Using Postgres SQL\n",
    "\n",
    "**Disadvantages of SQLite**\n",
    "SQLite is one of the most common database engines, and has many advantages:\n",
    "\n",
    "- The database is stored in a single file, making it portable.\n",
    "- We can use a SQLite database directly from Python, and don't need a separate program running.\n",
    "- It implements most SQL commands, enabling you to use most of the statements you're familiar with.\n",
    "\n",
    "However,  SQLite has a few downsides that make other database engines more attractive:\n",
    "\n",
    "- Only one process at a time can write to the database. \n",
    "- We can't take advantage of performance features, such as caching. Because a SQLite database is a single file, and it doesn't require a special program to run, it can't have performance optimizations like caching.\n",
    "- SQLite doesn't have any built-in security."
   ]
  },
  {
   "cell_type": "markdown",
   "metadata": {},
   "source": [
    "**Postgres SQL Overview**\n",
    "[PostgreSQL](https://www.postgresql.org/), also known as `Postgres`, is an extremely powerful database engine. At a high level, PostgreSQL consists of two pieces, a server and clients. The server is a program that manages databases and handles queries. Clients communicate back and forth to the server. Only the server ever directly accesses the databases -- the clients can only make requests to the server. \n",
    "\n",
    "One of the advantages of this model is that multiple clients can communicate with the server at the same time. This allows multiple processes to write to a database at the same time.\n",
    "\n",
    "It's possible to run a PostgreSQL server either remotely or locally. If it's remote, we connect to it via the internet. If it's local, we connect to it on our own machine. In both cases, we'll be connecting to PostgreSQL via a system port.\n",
    "\n",
    "By default, PostgreSQL uses `port 5432` to communicate with the outside world. If we start a PostgreSQL server, it will listen for incoming connections on port `5432`. Clients will be able to connect to the server using this port. If we start a client, you'll have to specify which server to connect to, along with the port to connect to.\n"
   ]
  },
  {
   "cell_type": "markdown",
   "metadata": {},
   "source": [
    "### Postgres Client Psycopg2\n",
    "There are many clients for `PostgreSQL`, including graphical clients. The most common Python client for `PostgreSQL` is called [`psycopg2`](https://www.psycopg.org/docs/cursor.html). Connecting to a PostgreSQL database using psycopg2 is similar to connecting to a SQLite database using the sqlite3 library. psycopg2 also uses `Connection` and `Cursor` objects.\n",
    "\n",
    "We'd connect to a database using psycopg2 like this:\n",
    "```\n",
    "import psycopg2\n",
    "conn = psycopg2.connect(\"dbname=postgres user=postgres\")\n",
    "cur = conn.cursor()\n",
    "```\n",
    "We have to specify both a database name and a user name. A PostgreSQL server can have multiple databases and multiple users, so we need to specify which user we're connecting as, and which database we're connecting to.\n",
    "When PostgreSQL is first installed, the default user account is called postgres, with an associated database called postgres.\n",
    "We didn't specify a server to connect to. `Psycopg2` will default to connecting to `port 5432` on the current computer.\n",
    "\n",
    "When we're done with a Connection object, we should close it to avoid issues where one connection prevents another from executing a query. Closing a connection will terminate the client's connection with the PostgreSQL server. We can close a connection like this:\n",
    "```\n",
    "conn.close()\n",
    "```\n",
    "**Exercise**\n",
    "Import the psycopg2 library.\n",
    "Connect to the dq database with the user dq.\n",
    "Initialize a Cursor object from the connection.\n",
    "Use the print function to display the Cursor object.\n",
    "Close the Connection using the close method"
   ]
  },
  {
   "cell_type": "markdown",
   "metadata": {},
   "source": [
    "`pip -install psycopg2`"
   ]
  },
  {
   "cell_type": "markdown",
   "metadata": {},
   "source": [
    "`import psycopg2\n",
    "conn=psycopg2.connect(\"dbname=jobs user=js\")\n",
    "cur=conn.cursor()\n",
    "print(cur)\n",
    "conn.close()`                      "
   ]
  },
  {
   "cell_type": "markdown",
   "metadata": {},
   "source": [
    "### Creating a Table\n",
    "\n",
    "Once we've connected to a database, we can create a table inside that database using `CREATE TABLE` statement:\n",
    "```\n",
    "CREATE TABLE tableName(\n",
    "   column1 dataType1 PRIMARY KEY,\n",
    "   column2 dataType2,\n",
    "   column3 dataType3,\n",
    "   ...\n",
    ");\n",
    "```\n",
    "**Exercise**\n",
    "- Connect to the jobs database as the user js\n",
    "- Write a SQL query that creates a table called `notes` in the dq database, with the following columns and data types:\n",
    "- `id` -- integer data type, and is a primary key.\n",
    "- `body` -- text data type.\n",
    "- `title` -- text data type.\n",
    "- Execute the query using the `execute` method.\n",
    "- Close the Connection using the `close` method."
   ]
  },
  {
   "cell_type": "markdown",
   "metadata": {},
   "source": [
    "```\n",
    "import psycopg2\n",
    "conn=psycopg2.connect(\"dbname=jobs user=js\")\n",
    "cur=conn.cursor()\n",
    "query=*CREATE TABLE notes (id integer PRIMARY KEY, body text, title text);\"\n",
    "cur.execute(query)\n",
    "\n",
    "conn.close()\n",
    "```"
   ]
  },
  {
   "cell_type": "markdown",
   "metadata": {},
   "source": [
    "### SQL Transactions\n",
    "\n",
    "- If we now check the database `jobs`, we would notice that there actually isn't a `note` table inside it. This isn't a bug -- it's because of a concept called `SQL transactions`. With SQLite, every query we made that modified the data was immediately executed, and immediately changed the database.\n",
    "With `PostgreSQL`, we're dealing with multiple users who could be changing the database at the same time.\n",
    "\n",
    "Let's imagine a simple scenario where we're keeping track of accounts for different customers of a bank. We could write a simple query to create a table for this:\n",
    "```\n",
    "CREATE TABLE accounts(\n",
    "   id integer PRIMARY KEY,\n",
    "   name text,\n",
    "   balance float\n",
    ");\n",
    "```\n",
    "\n",
    "Let's say we have the following two rows in the table:\n",
    "```\n",
    "id    name    balance\n",
    "1     Jim     100\n",
    "2     Sue     200\n",
    "```\n",
    "Let's say Sue gives 100 dollars to Jim. We could model this with two queries:\n",
    "```\n",
    "UPDATE accounts SET balance=200 WHERE name=\"Jim\";\n",
    "\n",
    "UPDATE accounts SET balance=100 WHERE name=\"Sue\";\n",
    "```\n",
    "n the above example, we remove 100 dollars from Sue, and add 100 dollars to Jim. Let's say either the second UPDATE statement has an error in it, the database fails, or another user has a conflicting query. The first query would run properly, but the second would fail. That would result in the following:\n",
    "```\n",
    "id    name    balance\n",
    "1     Jim     200\n",
    "2     Sue     200\n",
    "```\n",
    "Jim would be credited 100 dollars, but 100 dollars would not be removed from Sue. This would cause the bank to lose money.\n",
    "\n",
    "Transactions prevent this type of behavior by ensuring that all the queries in a transaction block are executed at the same time. If any of the transactions fail, the whole group fails, and no changes are made to the database at all.\n",
    "\n",
    "Whenever we open a Connection in psycopg2, a new transaction will automatically be created. All queries run up until the `commit` method is called will be placed into the same transaction block. When commit is called, the PostgreSQL engine will run all the queries at once.\n",
    "\n",
    "If we don't want to apply the changes in the transaction block, we can call the `rollback` method to remove the transaction. Not calling either `commit` or `rollback` will cause the transaction to stay in a pending state, and will result in the changes not being applied to the database.\n",
    "\n",
    "**Exercise**\n",
    "- Connect to the jobs database as the user js.\n",
    "- Write a SQL query that creates a table called notes in the dq database, with the following columns and data types:\n",
    "- `id` -- integer data type, and is a primary key.\n",
    "- `body` -- text data type.\n",
    "- `title` -- text data type.\n",
    "- Execute the query using the `execute` method.\n",
    "Use the `commit` method on the Connection object to apply the changes in the transaction to the database.\n",
    "Close the Connection."
   ]
  },
  {
   "cell_type": "markdown",
   "metadata": {},
   "source": [
    "```\n",
    "import psycopg2\n",
    "conn=psycopg2.connect(\"dbname=jobs user=js\")\n",
    "cur=conn.cursor()\n",
    "query=\"CREATE TABLE notes (\n",
    "id integer PRIMARY KEY,\n",
    "body text,\n",
    "title text);\"\n",
    "cur.execute(query)\n",
    "conn.commit()\n",
    "conn.close()\n",
    "```"
   ]
  },
  {
   "cell_type": "markdown",
   "metadata": {},
   "source": [
    "### Auto Committing\n",
    "There are cases when you won't want to manage a transaction, and you'll instead want changes right away.\n",
    "\n",
    "Some changes also have such widespread effects that they can't be wrapped inside of a transaction. One example of this is creating a database. When creating a database, we'll need to activate `autocommit` mode first. To activate `autocommit` mode, we'll need to set the `autocommit` property of the Connection object to `True`\n",
    "\n",
    "```\n",
    "conn = psycopg2.connect(\"dbname=jobs user=js\")\n",
    "conn.autocommit = True\n",
    "cur = conn.cursor()\n",
    "cur.execute(\"CREATE TABLE notes(id integer PRIMARY KEY, body text, title text)\")\n",
    "```\n",
    "Above command will create a table called `notes` without having to explicitly `commit` the transaction.\n",
    "\n",
    "**Exercise**\n",
    "\n",
    "- Connect to the jobs database as the user js.\n",
    "- Set the `autocommit` property of the Connection object to `True`.\n",
    "- Write a SQL query that creates a table called `facts` in the dq database, with the following columns and data types:\n",
    "- `id` -- integer data type, and is a primary key.\n",
    "- `country` -- text data type.\n",
    "- `value` -- text data type.\n",
    "- Execute the query using the `execute` method.\n",
    "- Close the Connection.\n"
   ]
  },
  {
   "cell_type": "markdown",
   "metadata": {},
   "source": [
    "```\n",
    "import psycopg2\n",
    "conn=psycopg2.connect(\"dbname=dq user=dq\")\n",
    "conn.autocommit=True\n",
    "cur=conn.cursor()\n",
    "query=\"CREATE TABLE facts (id integer PRIMARY KEY, country text, value text);\"\n",
    "cur.execute(query)\n",
    "conn.close()\n",
    "```"
   ]
  },
  {
   "cell_type": "markdown",
   "metadata": {},
   "source": [
    "### Executing Queries\n",
    "\n",
    "We can issue `SELECT` queries against a database using the `execute` method, along with the `fetchall` and `fetchone` methods to retrieve results:\n",
    "\n",
    "```\n",
    "cur.execute(\"SELECT * FROM notes;\")\n",
    "rows = cur.fetchall()\n",
    "print(rows)\n",
    "```\n",
    "We can use fol to insert rows in tables (for all columns):\n",
    "```\n",
    "INSERT INTO tableName\n",
    "VALUES (value1, value2, ...);\n",
    "```\n",
    "```\n",
    "INSERT INTO notes\n",
    "VALUES (1, 'This is my note text.', 'Test note');\n",
    "```\n",
    "**Exercise**\n",
    "- Execute a SQL query that inserts a row into the notes table with the following values:\n",
    "- `id` -- 1\n",
    "- `body` -- 'Do more jogging.'\n",
    "- `title` -- 'Exercise reminder'.\n",
    "- Execute a SQL query that selects all of the rows from the notes table.\n",
    "- Fetch all of the results and print them out.\n",
    "- Commit your changes and close the Connection.\n",
    "\n"
   ]
  },
  {
   "cell_type": "markdown",
   "metadata": {},
   "source": [
    "```\n",
    "import psycopg2\n",
    "conn=psycopg2.connect(\"dbname=dq user=dq\")\n",
    "cur=conn.cursor()\n",
    "query = \"INSERT INTO notes VALUES (1,'Do more jogging','Exercise reminder');\"\n",
    "cur.execute(query)\n",
    "conn.commit()\n",
    "cur.execute(\"SELECT * from notes;\")\n",
    "rows=cur.fetchall()\n",
    "print(rows)\n",
    "```"
   ]
  },
  {
   "cell_type": "markdown",
   "metadata": {},
   "source": [
    "### Creating Databases\n",
    "Postgres SQL allows us to create multiple databases. Different databases are generally used to hold information about different applications.\n",
    "We can create a database using the CREATE DATABASE SQL statement:\n",
    "`CREATE DATABASE dbName;`\n",
    "We can specify the user who will own the database when we create it as well, using the `OWNER` statement: `CREATE DATABASE notes OWNER postgres;`\n",
    "\n",
    "The owner of a database is the only one that can access and modify a database, unless they give permission to other users. An exception is superusers, who can perform any action on any database without being given permission.\n",
    "\n",
    "**Exercise**\n",
    "- Connect to the jobs database with the user js.\n",
    "- Set the connection to `autocommit` mode.\n",
    "- Create a database called `income` where the owner is the user js.\n",
    "- Close the Connection.\n",
    "\n"
   ]
  },
  {
   "cell_type": "markdown",
   "metadata": {},
   "source": [
    "```\n",
    "conn = psycopg2.connect(\"dbname=jobs user=js\")\n",
    "conn.autocommit = True\n",
    "cur = conn.cursor()\n",
    "cur.execute(\"CREATE DATABASE income OWNER js\")\n",
    "conn.close()\n",
    "```"
   ]
  },
  {
   "cell_type": "markdown",
   "metadata": {},
   "source": [
    "### Deleting Databases\n",
    "We can delete a database using the `DROP DATABASE` statement. The `DROP DATABASE` statement will immediately remove a database, provided the user executing the query has the right permissions. It should be used with caution when working with real data.\n",
    "`DROP DATABASE dbName;`\n",
    "\n",
    "**Exercise**\n",
    "- Connect to the jobs database with the user js.\n",
    "- Set the connection to `autocommit` mode.\n",
    "- Drop the income database.\n",
    "- Close the Connection.\n"
   ]
  }
 ],
 "metadata": {
  "kernelspec": {
   "display_name": "Python 3",
   "language": "python",
   "name": "python3"
  },
  "language_info": {
   "codemirror_mode": {
    "name": "ipython",
    "version": 3
   },
   "file_extension": ".py",
   "mimetype": "text/x-python",
   "name": "python",
   "nbconvert_exporter": "python",
   "pygments_lexer": "ipython3",
   "version": "3.7.6"
  }
 },
 "nbformat": 4,
 "nbformat_minor": 4
}
